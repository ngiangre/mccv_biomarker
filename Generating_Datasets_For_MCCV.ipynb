{
 "cells": [
  {
   "cell_type": "markdown",
   "metadata": {},
   "source": [
    "# Generating Biomarker Distributions"
   ]
  },
  {
   "cell_type": "code",
   "execution_count": 1,
   "metadata": {},
   "outputs": [],
   "source": [
    "import numpy as np\n",
    "import pandas as pd\n",
    "import matplotlib.pyplot as plt\n",
    "import scipy.stats as sc\n",
    "\n",
    "np.random.seed()"
   ]
  },
  {
   "cell_type": "markdown",
   "metadata": {},
   "source": [
    "## Parameters"
   ]
  },
  {
   "cell_type": "code",
   "execution_count": 2,
   "metadata": {},
   "outputs": [],
   "source": [
    "Ns = [int(50)]\n",
    "Nparams = [int(100),int(500),int(1000)]\n",
    "seed = 0"
   ]
  },
  {
   "cell_type": "markdown",
   "metadata": {},
   "source": [
    "## Ploting function"
   ]
  },
  {
   "cell_type": "code",
   "execution_count": 3,
   "metadata": {},
   "outputs": [],
   "source": [
    "def show_plots(rv1,rv2):\n",
    "    plt.figure()\n",
    "    plt.hist(rv1)\n",
    "    plt.hist(rv2)\n",
    "    plt.show()"
   ]
  },
  {
   "cell_type": "markdown",
   "metadata": {},
   "source": [
    "## Generating distributions"
   ]
  },
  {
   "cell_type": "code",
   "execution_count": 4,
   "metadata": {
    "code_folding": []
   },
   "outputs": [],
   "source": [
    "for N in Ns:\n",
    "    for Nparam in Nparams:\n",
    "        \n",
    "        ## Normally distributed biomarker\n",
    "        mu_space = np.random.uniform(-5,5,Nparam)\n",
    "        sigma_space = np.random.uniform(0,5,Nparam)\n",
    "        \n",
    "        vals = []\n",
    "        for i in range(Nparam):\n",
    "            rng = np.random.default_rng(i)\n",
    "            rv1 = rng.normal(mu_space[i],sigma_space[i],N)\n",
    "            mu_new = rng.uniform(min(mu_space ),max(mu_space ),1)[0]\n",
    "            sigma_new = rng.uniform(min(sigma_space ),max(sigma_space ),1)[0]    \n",
    "            rv2 = rng.normal(mu_new,sigma_new,N)\n",
    "            tmp = pd.DataFrame({\n",
    "                'class' : np.concatenate([\n",
    "                    np.repeat(1,N),np.repeat(0,N)]),\n",
    "                'distribution' : np.concatenate([\n",
    "                    np.repeat('normal',N),np.repeat('normal',N)]),\n",
    "                'biomarker' : np.concatenate([\n",
    "                    rv1,rv2\n",
    "                ]),\n",
    "                'seed' : np.concatenate([\n",
    "                    np.repeat(i,N),np.repeat(i,N)]),\n",
    "                'mu' : np.concatenate([\n",
    "                    np.repeat(mu_space[i],N),np.repeat(mu_new,N)]),\n",
    "                'sigma' : np.concatenate([\n",
    "                    np.repeat(sigma_space[i],N),np.repeat(sigma_new,N)])\n",
    "            },index=['subject'+str(i) for i in range(N*2)])\n",
    "\n",
    "            vals.append(tmp)\n",
    "        pd.concat(vals).to_csv('data/mccv_'+str(N)+\n",
    "                               'subjects_'+str(Nparam)+\n",
    "                               'parameters_normal_data.csv')\n",
    "\n",
    "        ## T distributed biomarker\n",
    "        mu_space = np.random.uniform(-5,5,Nparam)\n",
    "        df_space = np.random.uniform(1,N-1,Nparam)\n",
    "\n",
    "        vals = []\n",
    "        for i in range(Nparam):\n",
    "            rng = np.random.default_rng(i)\n",
    "            rv1 = rng.standard_t(df_space[i],N)\n",
    "            rv1 = rv1 + mu_space[i]\n",
    "            mu_new = rng.uniform(min(mu_space ),max(mu_space ),1)[0]\n",
    "            df_new = rng.uniform(min(df_space ),max(df_space ),1)[0]\n",
    "            rv2 = rng.standard_t(df_new,N)\n",
    "            rv2 = rv2 + mu_new\n",
    "            tmp = pd.DataFrame({\n",
    "                'class' : np.concatenate([\n",
    "                    np.repeat(1,N),np.repeat(0,N)]),\n",
    "                'distribution' : np.concatenate([\n",
    "                    np.repeat('t',N),np.repeat('t',N)]),\n",
    "                'biomarker' : np.concatenate([\n",
    "                    rv1,rv2\n",
    "                ]),\n",
    "                'seed' : np.concatenate([\n",
    "                    np.repeat(i,N),np.repeat(i,N)]),\n",
    "                'rv_mean' : np.concatenate([\n",
    "                    np.repeat(np.mean(rv1),N),np.repeat(np.mean(rv2),N)]),\n",
    "                'df' : np.concatenate([\n",
    "                    np.repeat(df_space[i],N),np.repeat(df_new,N)])\n",
    "            },index=['subject'+str(i) for i in range(N*2)])\n",
    "\n",
    "            vals.append(tmp)\n",
    "        pd.concat(vals).to_csv('data/mccv_'+str(N)+\n",
    "                               'subjects_'+str(Nparam)+\n",
    "                               'parameters_t_data.csv')\n",
    "\n",
    "        ## Beta distributed biomarker\n",
    "        a_space = np.random.uniform(0,5,Nparam)\n",
    "        b_space = np.random.uniform(0,5,Nparam)\n",
    "\n",
    "        vals = []\n",
    "        for i in range(Nparam):\n",
    "            rng = np.random.default_rng(i)\n",
    "            rv1 = rng.beta(a_space[i],b_space[i],N)\n",
    "            a_new = rng.uniform(min(a_space ),max(a_space ),1)[0]\n",
    "            b_new = rng.uniform(min(b_space ),max(b_space ),1)[0]    \n",
    "            rv2 = rng.beta(a_new,b_new,N)\n",
    "            tmp = pd.DataFrame({\n",
    "                'class' : np.concatenate([\n",
    "                    np.repeat(1,N),np.repeat(0,N)]),\n",
    "                'distribution' : np.concatenate([\n",
    "                    np.repeat('beta',N),np.repeat('beta',N)]),\n",
    "                'biomarker' : np.concatenate([\n",
    "                    rv1,rv2\n",
    "                ]),\n",
    "                'seed' : np.concatenate([\n",
    "                    np.repeat(i,N),np.repeat(i,N)]),\n",
    "                'a' : np.concatenate([\n",
    "                    np.repeat(a_space[i],N),np.repeat(a_new,N)]),\n",
    "                'b' : np.concatenate([\n",
    "                    np.repeat(b_space[i],N),np.repeat(b_new,N)])\n",
    "            },index=['subject'+str(i) for i in range(N*2)])\n",
    "\n",
    "            vals.append(tmp)\n",
    "        pd.concat(vals).to_csv('data/mccv_'+str(N)+\n",
    "                               'subjects_'+str(Nparam)+\n",
    "                               'parameters_beta_data.csv')"
   ]
  },
  {
   "cell_type": "code",
   "execution_count": null,
   "metadata": {},
   "outputs": [],
   "source": []
  }
 ],
 "metadata": {
  "kernelspec": {
   "display_name": "Python 3",
   "language": "python",
   "name": "python3"
  },
  "language_info": {
   "codemirror_mode": {
    "name": "ipython",
    "version": 3
   },
   "file_extension": ".py",
   "mimetype": "text/x-python",
   "name": "python",
   "nbconvert_exporter": "python",
   "pygments_lexer": "ipython3",
   "version": "3.8.5"
  },
  "toc": {
   "base_numbering": 1,
   "nav_menu": {},
   "number_sections": true,
   "sideBar": true,
   "skip_h1_title": false,
   "title_cell": "Table of Contents",
   "title_sidebar": "Contents",
   "toc_cell": false,
   "toc_position": {},
   "toc_section_display": true,
   "toc_window_display": true
  }
 },
 "nbformat": 4,
 "nbformat_minor": 4
}
