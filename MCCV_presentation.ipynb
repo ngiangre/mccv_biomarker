{
  "cells": [
    {
      "cell_type": "raw",
      "metadata": {},
      "source": [
        "---\n",
        "title: Clinical machine learning using Monte Carlo Cross Validation (MCCV)\n",
        "author: Nick Giangreco\n",
        "format:\n",
        "  revealjs:\n",
        "    incremental: true\n",
        "---"
      ],
      "id": "b278aa65"
    },
    {
      "cell_type": "markdown",
      "metadata": {},
      "source": [
        "## Outline\n",
        "\n",
        "::: {.incremental}\n",
        "1.  Wo am I?\n",
        "2.  What is Monte Carlo Cross Validation (MCCV)?\n",
        "3.  How well does MCCV learn?\n",
        "4.  Is MCCV open-source?\n",
        "5.  How does MCCV compare to using a t-test?\n",
        ":::\n",
        "\n",
        "## Nick Giangreco developed data mining and prediction methodologies at Columbia University {.smaller}\n",
        "\n",
        "- PhD in Systems Biology at Columbia University\n",
        "- Projects:\n",
        "   - Differential expression (RNA-Seq, Proteomics)\n",
        "   - Electronic Health Record (EHR) analysis\n",
        "   - Data mining \n",
        "   - Biomarker prediction\n",
        "   \n",
        "## What is MCCV? {.smaller}\n",
        "\n",
        "Monte Carlo Cross Validation (MCCV) is a predictive algorithm that combines prediction, cross validation, and statistical sampling.\n",
        "\n",
        "## MCCV has been used as a prognostic tool to predict adverse outcomes in the future {.smaller}\n",
        "\n",
        "## MCCV has been implemented as a python package {.smaller}\n",
        "\n",
        "## MCCV determines a quantitative measure of prediction, compared to fold change and p-value cutoffs {.smaller}\n",
        "\n",
        "## MCCV example\n"
      ],
      "id": "3f31fd42"
    },
    {
      "cell_type": "code",
      "metadata": {},
      "source": [
        "import pandas as pd\n",
        "data = pd.read_csv('data/data.csv',index_col=0) # Feature column name is 'biomarker' and response column  name is 'status'\n",
        "\n",
        "\n",
        "#MCCV procedure\n",
        "import mccv\n",
        "mccv_obj = mccv.mccv(num_bootstraps=200)\n",
        "mccv_obj.set_X( data.loc[:,['biomarker']] )\n",
        "mccv_obj.set_Y( data.loc[:,['status']] )\n",
        "mccv_obj.run_mccv()\n",
        "mccv_obj.run_permuted_mccv()\n",
        "\n",
        "#Output\n",
        "mccv_obj.mccv_data # 4 element dictionary\n",
        "mccv_obj.mccv_permuted_data # 4 element dictionary"
      ],
      "id": "00d410d4",
      "execution_count": null,
      "outputs": []
    }
  ],
  "metadata": {
    "kernelspec": {
      "name": "python3",
      "language": "python",
      "display_name": "Python 3 (ipykernel)"
    }
  },
  "nbformat": 4,
  "nbformat_minor": 5
}